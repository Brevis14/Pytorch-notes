{
 "cells": [
  {
   "cell_type": "markdown",
   "id": "470647ba",
   "metadata": {},
   "source": [
    "[![transforms.png](https://i.postimg.cc/RhFrhXpK/transforms.png)](https://postimg.cc/PpBVFzj5)\n",
    "\n",
    "The usage of transforms:\n",
    "\n",
    "[![usage-transforms.png](https://i.postimg.cc/63HZCpcg/usage-transforms.png)](https://postimg.cc/k6bDm9kv)"
   ]
  },
  {
   "cell_type": "markdown",
   "id": "80593c50",
   "metadata": {},
   "source": []
  }
 ],
 "metadata": {
  "language_info": {
   "name": "python"
  }
 },
 "nbformat": 4,
 "nbformat_minor": 5
}
