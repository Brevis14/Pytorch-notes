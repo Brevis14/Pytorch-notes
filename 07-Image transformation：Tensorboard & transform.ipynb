{
 "cells": [
  {
   "cell_type": "markdown",
   "id": "30153e3d",
   "metadata": {},
   "source": [
    "#### 📈 Tensorboard:\n",
    "losses: Used to determine whether the training process is changing as expected, whether it is in a normal state, and for model selection.\n",
    "\n",
    "Explanation of the losses curve:"
   ]
  },
  {
   "cell_type": "markdown",
   "id": "e7e3d6d9",
   "metadata": {},
   "source": [
    "[![losses-curve.png](https://i.postimg.cc/3xDP8vyR/losses-curve.png)](https://postimg.cc/NKBNbLkq)"
   ]
  },
  {
   "cell_type": "markdown",
   "id": "f4df6706",
   "metadata": {},
   "source": [
    "#### 🔃 transform:\n",
    "Used for image transformation, such as unifying sizes and converting the data in images into different types."
   ]
  },
  {
   "cell_type": "markdown",
   "id": "39f98b64",
   "metadata": {},
   "source": [
    "⚠️ If TensorBoard reports the following error:"
   ]
  },
  {
   "cell_type": "markdown",
   "id": "6e8eab75",
   "metadata": {},
   "source": [
    "[![tensorboard-error-no-dashboards.png](https://i.postimg.cc/J7YqVXGH/tensorboard-error-no-dashboards.png)](https://postimg.cc/Hj55bV0T)"
   ]
  },
  {
   "cell_type": "markdown",
   "id": "1a8587d3",
   "metadata": {},
   "source": [
    "Add these two lines of statements to your code："
   ]
  },
  {
   "cell_type": "code",
   "execution_count": null,
   "id": "dc431e24",
   "metadata": {
    "vscode": {
     "languageId": "plaintext"
    }
   },
   "outputs": [],
   "source": [
    "import os\n",
    "print(\"当前工作目录：\", os.getcwd())"
   ]
  },
  {
   "cell_type": "markdown",
   "id": "334ba184",
   "metadata": {},
   "source": [
    "Run your code, and it will print out the location where the logs are created. After copying this location, append \"\\logs\" to the path. Then, replace \"logs\" in the command \"tensorboard --logdir=logs --port=6007\" with the modified absolute path to the logs. Re-run TensorBoard, and it will open successfully.✅\n",
    "\n",
    "If your image looks like this: \n",
    "\n",
    "[![triangle.png](https://i.postimg.cc/V6GHVHxd/triangle.png)](https://postimg.cc/1nFHgM5Q)\n",
    "\n",
    "Find \"smoothing\" under \"Scalars\" in the settings, set it to 0：\n",
    "\n",
    "[![smoothing.png](https://i.postimg.cc/k44TKv29/smoothing.png)](https://postimg.cc/946PjTPN)\n",
    "\n",
    "and you will get an image like this：\n",
    "\n",
    "[![line.png](https://i.postimg.cc/MXktkkdK/line.png)](https://postimg.cc/n9kq7Py6)\n"
   ]
  },
  {
   "cell_type": "markdown",
   "id": "84c38b93",
   "metadata": {},
   "source": []
  }
 ],
 "metadata": {
  "language_info": {
   "name": "python"
  }
 },
 "nbformat": 4,
 "nbformat_minor": 5
}
