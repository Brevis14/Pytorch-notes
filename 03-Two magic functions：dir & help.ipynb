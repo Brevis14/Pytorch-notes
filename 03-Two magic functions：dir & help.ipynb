{
 "cells": [
  {
   "cell_type": "markdown",
   "id": "f89c33cc",
   "metadata": {},
   "source": [
    "### 1️⃣ **dir()**:\n",
    "#### It is equivalent to the function of opening a directory index entry.\n",
    "\n",
    "### 2️⃣ **help()**:\n",
    "#### Check the function description.\n",
    "\n",
    "This image shows the usage of two functions："
   ]
  },
  {
   "cell_type": "markdown",
   "id": "30c38ed8",
   "metadata": {},
   "source": [
    "[![instructions-functions.png](https://i.postimg.cc/MTcNNm2P/instructions-functions.png)](https://postimg.cc/8JSZrWCM)"
   ]
  },
  {
   "cell_type": "markdown",
   "id": "b48dcdb4",
   "metadata": {},
   "source": [
    "When all the return results of `dir()` are in the form of `'__xx__'`, it indicates that these contents cannot be modified. In this case, what `dir()` is checking is **a genuine function**, so you can use `help()` to view the usage of this function. \n",
    "\n",
    "Note that in the parentheses of `help()`, you only need to enter **the function name** without adding the parentheses after it. \n",
    "\n",
    "For example, `torch.cuda.is_available()` is a function, but the statement to use `help()` is `help(torch.cuda.is_available)` (**without adding parentheses after `torch.cuda.is_available`**)."
   ]
  }
 ],
 "metadata": {
  "language_info": {
   "name": "python"
  }
 },
 "nbformat": 4,
 "nbformat_minor": 5
}
