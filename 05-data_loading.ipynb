{
 "cells": [
  {
   "cell_type": "markdown",
   "id": "e6ba57d0",
   "metadata": {},
   "source": [
    "A brief description of data loading:"
   ]
  },
  {
   "cell_type": "markdown",
   "id": "9785807a",
   "metadata": {},
   "source": [
    "[![data-loading.png](https://i.postimg.cc/SxPcx6zb/data-loading.png)](https://postimg.cc/MnynsjD9)"
   ]
  },
  {
   "cell_type": "markdown",
   "id": "95b48b5a",
   "metadata": {},
   "source": [
    "A dataset contains labels, data, and indices.  \n",
    "\n",
    "A label refers to a data tag, which is an annotation or tag attached to data. For example, the label of a picture of a bee is \"bee\"."
   ]
  }
 ],
 "metadata": {
  "language_info": {
   "name": "python"
  }
 },
 "nbformat": 4,
 "nbformat_minor": 5
}
