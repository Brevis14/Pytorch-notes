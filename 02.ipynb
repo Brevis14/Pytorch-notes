{
 "cells": [
  {
   "cell_type": "markdown",
   "id": "c237748b",
   "metadata": {},
   "source": [
    "## 🚀 Fixing Common PyTorch + CUDA Setup Issues (with Python 3.13 Heads-Up)  \n",
    "While trying to set up PyTorch with CUDA support, especially under a Conda virtual environment and using tools like PyCharm, you might hit errors like:  \n",
    "\n",
    "### ❌ Common Errors  "
   ]
  },
  {
   "cell_type": "code",
   "execution_count": null,
   "id": "2a9e2c02",
   "metadata": {
    "vscode": {
     "languageId": "plaintext"
    }
   },
   "outputs": [],
   "source": [
    "1. PyCharm cannot detect the Conda environment or the interpreter in it.  \n",
    "2. Invalid Python interpreter.  \n",
    "3. C:\\Users\\Users_name\\.conda\\envs\\venv_name\\python.exe: can't open file 'c:\\\\Users\\\\Users_name\\\\Desktop\\\\info': [Errno 2] No such file or directory  \n",
    "4. >>> print(torch.cuda.is_available())  \n",
    "   >>> False "
   ]
  },
  {
   "cell_type": "markdown",
   "id": "9532bb40",
   "metadata": {},
   "source": [
    "These errors often occur due to version mismatches between Python, PyTorch, and CUDA, especially if you're using bleeding-edge Python versions (like 3.13), which are not yet supported by PyTorch as of now.  \n",
    "\n",
    "## ✅ Step-by-Step Fixes  \n",
    "1.Clean uninstall current (possibly CPU-only) PyTorch packages in your environment:"
   ]
  },
  {
   "cell_type": "code",
   "execution_count": null,
   "id": "4d8894ed",
   "metadata": {
    "vscode": {
     "languageId": "plaintext"
    }
   },
   "outputs": [],
   "source": [
    "pip uninstall torch torchvision torchaudio"
   ]
  },
  {
   "cell_type": "markdown",
   "id": "ab76f407",
   "metadata": {},
   "source": [
    "2.Remove the problematic Conda environment: "
   ]
  },
  {
   "cell_type": "code",
   "execution_count": null,
   "id": "9c800bd5",
   "metadata": {
    "vscode": {
     "languageId": "plaintext"
    }
   },
   "outputs": [],
   "source": [
    "conda env remove --name pytorch"
   ]
  },
  {
   "cell_type": "markdown",
   "id": "e2e7578f",
   "metadata": {},
   "source": [
    "3.Downgrade to Python 3.11 (PyTorch-supported version) by creating a fresh Conda environment with a PyTorch-supported Python version (recommended: Python 3.11): "
   ]
  },
  {
   "cell_type": "code",
   "execution_count": null,
   "id": "3fd6e212",
   "metadata": {
    "vscode": {
     "languageId": "plaintext"
    }
   },
   "outputs": [],
   "source": [
    "conda create -n pytorch python=3.11"
   ]
  },
  {
   "cell_type": "markdown",
   "id": "0689f673",
   "metadata": {},
   "source": [
    "4.Install PyTorch with CUDA 12.1 support using the official PyTorch wheel source:"
   ]
  },
  {
   "cell_type": "code",
   "execution_count": null,
   "id": "3bb2a0f8",
   "metadata": {
    "vscode": {
     "languageId": "plaintext"
    }
   },
   "outputs": [],
   "source": [
    "pip install torch==2.5.1+cu121 torchvision==0.20.1+cu121 torchaudio==2.5.1+cu121 --index-url https://download.pytorch.org/whl/cu121"
   ]
  },
  {
   "cell_type": "markdown",
   "id": "5fc6be6e",
   "metadata": {},
   "source": [
    "5.Verify that CUDA is working:"
   ]
  },
  {
   "cell_type": "code",
   "execution_count": null,
   "id": "2ae4dad8",
   "metadata": {
    "vscode": {
     "languageId": "plaintext"
    }
   },
   "outputs": [],
   "source": [
    ">>> import torch  \n",
    ">>> print(torch.cuda.is_available()) # Should print: True"
   ]
  },
  {
   "cell_type": "markdown",
   "id": "d3427f22",
   "metadata": {},
   "source": [
    "#### 💡 Tip  \n",
    "If you’re using PyCharm, don’t forget to manually point your project interpreter to the Conda environment you just created (pytorch), via:  \n",
    "Settings → Project → Python Interpreter → Add → Conda Environment → Existing\n",
    "May not work for everyone,but it’s a good baseline if you're facing similar headaches.\n",
    "\n",
    "### 📝 Jupyter Notebook:  \n",
    "Activate venv:"
   ]
  },
  {
   "cell_type": "code",
   "execution_count": null,
   "id": "a72a6846",
   "metadata": {
    "vscode": {
     "languageId": "plaintext"
    }
   },
   "outputs": [],
   "source": [
    "conda install jupyter notebook"
   ]
  },
  {
   "cell_type": "markdown",
   "id": "ff06fc67",
   "metadata": {},
   "source": [
    "Install the Jupyter Notebook extension in VS Code, then create a .ipynb file.\n",
    "\n",
    "Then you're good to go."
   ]
  }
 ],
 "metadata": {
  "language_info": {
   "name": "python"
  }
 },
 "nbformat": 4,
 "nbformat_minor": 5
}
