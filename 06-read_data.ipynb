{
 "cells": [
  {
   "cell_type": "markdown",
   "id": "f9dbfcb8",
   "metadata": {},
   "source": [
    "Note: Under the Windows system, the image path must be changed to double slashes❗❗"
   ]
  },
  {
   "cell_type": "code",
   "execution_count": null,
   "id": "ecbc9bb1",
   "metadata": {},
   "outputs": [],
   "source": [
    "image_path = \"D:\\\\pytorch\\\\dataset\\\\hymenoptera_data\\\\train\\\\ants\\\\0013035.jpg\""
   ]
  }
 ],
 "metadata": {
  "kernelspec": {
   "display_name": "pytorch",
   "language": "python",
   "name": "python3"
  },
  "language_info": {
   "name": "python",
   "version": "3.11.13"
  }
 },
 "nbformat": 4,
 "nbformat_minor": 5
}
